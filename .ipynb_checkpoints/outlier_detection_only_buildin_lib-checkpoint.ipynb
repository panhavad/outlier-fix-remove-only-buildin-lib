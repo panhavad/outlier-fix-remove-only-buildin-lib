{
 "cells": [
  {
   "cell_type": "code",
   "execution_count": 1,
   "metadata": {},
   "outputs": [],
   "source": [
    "import pandas as pd\n",
    "import matplotlib.pyplot as plt"
   ]
  },
  {
   "cell_type": "code",
   "execution_count": 2,
   "metadata": {},
   "outputs": [],
   "source": [
    "def is_integer(val):\n",
    "\tif val%2 == 0:\n",
    "\t\treturn True\n",
    "\telse:\n",
    "\t\treturn False\n",
    "\n",
    "def get_mid_value(val_list, quartile_pos):\n",
    "\tindex_mid_point_of_list = (len(val_list)+1)/quartile_pos\n",
    "\tif is_integer(index_mid_point_of_list):\n",
    "\t\tif quartile_pos > 0:\n",
    "\t\t\treturn val_list[int(index_mid_point_of_list)-1]\n",
    "\t\telse: \n",
    "\t\t\treturn val_list[int(index_mid_point_of_list)]\n",
    "\telse:\n",
    "\t\tmid_index_2 = round(index_mid_point_of_list)\n",
    "\t\tmid_index_1 = mid_index_2 - 1\n",
    "\t\treturn (val_list[mid_index_1] + val_list[mid_index_2]) / 2\n",
    "\n",
    "def get_five_numbers(val_list):\n",
    "\tsorted_val_list = sorted(val_list)\n",
    "\tmidian = get_mid_value(sorted_val_list, 2)\n",
    "\tfirst_quartile = get_mid_value(sorted_val_list, 4)\n",
    "\tthird_quartile =  get_mid_value(sorted_val_list, -4)\n",
    "\treturn [min(sorted_val_list), first_quartile, midian, third_quartile, max(sorted_val_list)]\n",
    "\n",
    "def get_iqr(first_quartile, third_quartile):\n",
    "\treturn third_quartile - first_quartile\n",
    "\n",
    "def get_outlier_index(val_list, lower_bound, upper_bound):\n",
    "\treturn [i for i, val in enumerate(val_list) if val < lower_bound or val > upper_bound]\n",
    "\n",
    "def replace_outlier(val_list, outlier_index_list):\n",
    "\tval_list = [val for val in val_list]\n",
    "\toutlier_index_list = sorted(outlier_index_list, reverse=True)\n",
    "\tfor index in outlier_index_list:\n",
    "\t\tval_list[index] = val_list[index - 1]\n",
    "\treturn val_list\n",
    "\n",
    "def remove_outlier(val_list, outlier_index_list):\n",
    "\tval_list = [val for val in val_list]\n",
    "\toutlier_index_list = sorted(outlier_index_list, reverse=True)\n",
    "\tfor index in outlier_index_list:\n",
    "\t\tdel val_list[index]\n",
    "\treturn val_list\n",
    "\n",
    "def fixing(original_list):\n",
    "    five_numbers = get_five_numbers(original_list)\n",
    "    iqr = get_iqr(five_numbers[1], five_numbers[3])\n",
    "    lower_bound = five_numbers[1] - 1.5*(iqr)\n",
    "    upper_bound = five_numbers[3] + 1.5*(iqr)\n",
    "    outlier_index_list = get_outlier_index(original_list, lower_bound, upper_bound)\n",
    "    outlier_fixed_list = replace_outlier(original_list, outlier_index_list)\n",
    "    return outlier_fixed_list, five_numbers, iqr, lower_bound, upper_bound, outlier_index_list"
   ]
  },
  {
   "cell_type": "code",
   "execution_count": 3,
   "metadata": {},
   "outputs": [
    {
     "ename": "NameError",
     "evalue": "name 'original_list' is not defined",
     "output_type": "error",
     "traceback": [
      "\u001b[1;31m---------------------------------------------------------------------------\u001b[0m",
      "\u001b[1;31mNameError\u001b[0m                                 Traceback (most recent call last)",
      "\u001b[1;32m<ipython-input-3-d0ddc0214019>\u001b[0m in \u001b[0;36m<module>\u001b[1;34m\u001b[0m\n\u001b[0;32m      1\u001b[0m \u001b[1;31m#convert to dataframe\u001b[0m\u001b[1;33m\u001b[0m\u001b[1;33m\u001b[0m\u001b[1;33m\u001b[0m\u001b[0m\n\u001b[1;32m----> 2\u001b[1;33m \u001b[0mdf\u001b[0m \u001b[1;33m=\u001b[0m \u001b[0mpd\u001b[0m\u001b[1;33m.\u001b[0m\u001b[0mDataFrame\u001b[0m\u001b[1;33m(\u001b[0m\u001b[0mdata\u001b[0m\u001b[1;33m=\u001b[0m\u001b[0moriginal_list\u001b[0m\u001b[1;33m,\u001b[0m \u001b[0mcolumns\u001b[0m\u001b[1;33m=\u001b[0m\u001b[1;33m[\u001b[0m\u001b[1;34m'Wind Speed'\u001b[0m\u001b[1;33m]\u001b[0m\u001b[1;33m,\u001b[0m \u001b[0mdtype\u001b[0m\u001b[1;33m=\u001b[0m\u001b[1;32mNone\u001b[0m\u001b[1;33m,\u001b[0m \u001b[0mcopy\u001b[0m\u001b[1;33m=\u001b[0m\u001b[1;32mFalse\u001b[0m\u001b[1;33m)\u001b[0m\u001b[1;33m\u001b[0m\u001b[1;33m\u001b[0m\u001b[0m\n\u001b[0m\u001b[0;32m      3\u001b[0m \u001b[1;31m#vitualization\u001b[0m\u001b[1;33m\u001b[0m\u001b[1;33m\u001b[0m\u001b[1;33m\u001b[0m\u001b[0m\n\u001b[0;32m      4\u001b[0m \u001b[0mplt\u001b[0m\u001b[1;33m.\u001b[0m\u001b[0mfigure\u001b[0m\u001b[1;33m(\u001b[0m\u001b[0mfigsize\u001b[0m\u001b[1;33m=\u001b[0m\u001b[1;33m(\u001b[0m\u001b[1;36m16\u001b[0m\u001b[1;33m,\u001b[0m \u001b[1;36m8\u001b[0m\u001b[1;33m)\u001b[0m\u001b[1;33m)\u001b[0m\u001b[1;33m\u001b[0m\u001b[1;33m\u001b[0m\u001b[0m\n\u001b[0;32m      5\u001b[0m \u001b[0mplt\u001b[0m\u001b[1;33m.\u001b[0m\u001b[0mtitle\u001b[0m\u001b[1;33m(\u001b[0m\u001b[1;34m'Price of Greenpaper'\u001b[0m\u001b[1;33m)\u001b[0m\u001b[1;33m\u001b[0m\u001b[1;33m\u001b[0m\u001b[0m\n",
      "\u001b[1;31mNameError\u001b[0m: name 'original_list' is not defined"
     ]
    }
   ],
   "source": [
    "#convert to dataframe\n",
    "df = pd.DataFrame(data=original_list, columns=['Wind Speed'], dtype=None, copy=False)\n",
    "#vitualization\n",
    "plt.figure(figsize=(16, 8))\n",
    "plt.plot(df['Wind Speed'], 'ro')\n",
    "plt.xlabel('Date', fontsize=18)\n",
    "plt.ylabel('Wind Speed km/h', fontsize=18)\n",
    "plt.ylim(0, 30)\n",
    "plt.show()"
   ]
  },
  {
   "cell_type": "code",
   "execution_count": null,
   "metadata": {},
   "outputs": [],
   "source": [
    "#start fixing\n",
    "fixed_windspeed = fixing(original_list)[0]"
   ]
  },
  {
   "cell_type": "code",
   "execution_count": null,
   "metadata": {},
   "outputs": [],
   "source": [
    "#print out the important variable\n",
    "print('\\nFive numbers: [MIN, Q1, Midian, Q3, MAX] ->', fixed_windspeed[1])\n",
    "print('Lower bound:', fixed_windspeed[3], '\\nUpper bound:', fixed_windspeed[4])\n",
    "print('IQR:', fixed_windspeed[2])\n",
    "print('Outlier index list:', fixed_windspeed[5])\n",
    "#convert to dataframe\n",
    "df = pd.DataFrame(data=fixed_windspeed, columns=['Wind Speed'], dtype=None, copy=False)\n",
    "#vitualization\n",
    "plt.figure(figsize=(16, 8))\n",
    "plt.plot(df['Wind Speed'], 'ro')\n",
    "plt.xlabel('Date', fontsize=18)\n",
    "plt.ylabel('Wind Speed km/h', fontsize=18)\n",
    "plt.ylim(0, 30)\n",
    "plt.show()"
   ]
  }
 ],
 "metadata": {
  "kernelspec": {
   "display_name": "Python 3",
   "language": "python",
   "name": "python3"
  },
  "language_info": {
   "codemirror_mode": {
    "name": "ipython",
    "version": 3
   },
   "file_extension": ".py",
   "mimetype": "text/x-python",
   "name": "python",
   "nbconvert_exporter": "python",
   "pygments_lexer": "ipython3",
   "version": "3.7.4"
  }
 },
 "nbformat": 4,
 "nbformat_minor": 2
}
